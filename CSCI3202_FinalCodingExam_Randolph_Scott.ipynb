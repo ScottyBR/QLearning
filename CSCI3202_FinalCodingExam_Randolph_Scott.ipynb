{
 "cells": [
  {
   "cell_type": "markdown",
   "metadata": {},
   "source": [
    "# CSCI 3202, Spring 2022: Final Coding Project\n",
    "\n",
    "---\n",
    "\n",
    "\n",
    "This is your final programming project for CSCI 3202. It is due on Canvas by **11:59 PM on Saturday April 30**.  Your solutions to theoretical questions should be done in Markdown/LateX directly below the associated question. Your solutions to computational questions should include any relevant Python code, as well as results and any written commentary.\n",
    "\n",
    "You have two options for completing your final project for this course. The first option is presented in this notebook and involves implementing a reinforcement learning algorithm and producing a five-minute video that explains your process of solving this problem. The second option is to design your own project that includes the algorithms we've discussed since the midterm - Bayes Nets, Hidden Markov Models, Markov Decision Processes, or Reinforcement Learning - or an algorithm related to one of these that we haven't discussed in class. Your project also needs to include some kind of analysis of how it performed on a specific problem. If you're interested in the design your own project option, you need to discuss your idea with one of the course instructors to get approval. If you do a project without getting approval, you will receive a 0 regardless of the quality of the project. You will also need to produce a short, five-minute video that explains your project.\n",
    "\n",
    "**The rules:**\n",
    "\n",
    "1. Choose EITHER the given problem to submit OR choose your own project topic. \n",
    "\n",
    "2. If you choose your own project topic, please adhere to the following guidelines:\n",
    "- The project needs to be approved by the course instructors.\n",
    "- The project needs to include one of the algorithms we've discussed since the midterm - Bayes Nets, HMMs, MDPs, or Reinforcement Learning - or an algorithm that we haven't discussed in class. \n",
    "- If you do your own project without prior approval, you will receive a 0 for this project.\n",
    "- Your project code, explanation, and results must all be contained in a Jupyter notebook. \n",
    "\n",
    "3. All work, code and analysis must be **your own**.\n",
    "4. You may use your course notes, posted lecture slides, textbook, in-class notebooks and homework solutions as resources.  You may also search online for answers to general knowledge questions, like the form of a probability distribution function, or how to perform a particular operation in Python. You may not use entire segments of code as solutions to any part of this project, e.g. if you find a Python implementation of policy iteration online, you can't use it.\n",
    "5. You may **not** post to message boards or other online resources asking for help.\n",
    "6. **You may not collaborate with classmates or anyone else.**\n",
    "7. This is meant to be like a coding portion of your final exam. So, we will be much less helpful than we typically am with homework. For example, we will not check answers, help debug your code, and so on.\n",
    "8. If you have a question, post it first as a **private** Piazza message. If we decide that it is appropriate for the entire class, then we will make it a public post (and anonymous).\n",
    "9. If something is left open-ended, it is probably because we intend for you to code it up however you want, and only care about the plots/analysis we see at the end. Feel free to ask clarifying questions though.\n",
    "\n",
    "Violation of these rules will result in an **F** and a trip to the Honor Code council.\n",
    "\n",
    "---\n",
    "**By writing your name below, you agree to abide by these rules:**\n",
    "\n",
    "**Your name: Scott Randolph**\n",
    "\n",
    "---\n",
    "\n"
   ]
  },
  {
   "cell_type": "code",
   "execution_count": 1,
   "metadata": {},
   "outputs": [],
   "source": [
    "import random\n",
    "import math\n",
    "import pandas as pd\n",
    "import numpy as np\n",
    "import scipy.stats as stats\n",
    "import matplotlib.pyplot as plt\n",
    "from collections import defaultdict\n",
    "\n",
    "# added packages\n",
    "import heapq\n",
    "from matplotlib import colors"
   ]
  },
  {
   "cell_type": "markdown",
   "metadata": {},
   "source": [
    "\n",
    "\n",
    "---\n",
    "## [100 pts] Problem 1:  Reinforcement learning\n",
    "\n",
    "Consider a **cube** state space defined by $0 \\le x, y, z \\le L$. Suppose you are piloting/programming a drone to learn how to land on a platform at the center of the $z=0$ surface (the bottom). Some assumptions:\n",
    "* In this discrete world, if the drone is at $(x,y,z)$ it means that the box is centered at $(x,y,z)$. There are boxes (states) centered at $(x,y,z)$ for all $0 \\le x,y,z \\le L$. Each state is a 1 unit cube. So when $L=2$ (for example), there are cubes centered at each $x=0,1,2$, $y=0,1,2$ and so on, for a total state space size of $3^3 = 27$ states.\n",
    "* All of the states with $z=0$ are terminal states.\n",
    "* The state at the center of the bottom of the cubic state space is the landing pad. For example, when $L=4$, the landing pad is at $(x,y,z) = (2,2,0)$.\n",
    "* All terminal states ***except*** the landing pad have a reward of -1. The landing pad has a reward of +1.\n",
    "* All non-terminal states have a living reward of -0.01.\n",
    "* The drone takes up exactly 1 cubic unit, and begins in a random non-terminal state.\n",
    "* The available actions in non-terminal states include moving exactly 1 unit Up (+z), Down (-z), North (+y), South (-y), East (+x) or West (-x). In a terminal state, the training episode should end."
   ]
  },
  {
   "cell_type": "markdown",
   "metadata": {},
   "source": [
    "#### Part A\n",
    "Write a class `MDPLanding` to represent the Markov decision process for this drone. Include methods for:\n",
    "1. `actions(state)`, which should return a list of all actions available from the given state\n",
    "2. `reward(state)`, which should return the reward for the given state\n",
    "3. `result(state, action)`, which should return the resulting state of doing the given action in the given state\n",
    "\n",
    "and attributes for:\n",
    "1. `states`, a list of all the states in the state space, where each state is represented as an $(x,y,z)$ tuple\n",
    "2. `terminal_states`, a dictionary where keys are the terminal state tuples and the values are the rewards associated with those terminal states\n",
    "3. `default_reward`, a scalar for the reward associated with non-terminal states\n",
    "4. `all_actions`, a list of all possible actions (Up, Down, North, South, East, West)\n",
    "5. `discount`, the discount factor (use $\\gamma = 0.999$ for this entire problem)\n",
    "\n",
    "How you feed arguments/information into the class constructor is up to you.\n",
    "\n",
    "Note that actions are *deterministic* here.  The drone does not need to learn transition probabilities for outcomes of particular actions. What the drone does need to learn, however, is where the landing pad is, and how to get there from any initial state.\n",
    "\n",
    "Before moving on to Part B, we recommend that you test that your MDPLanding code is set up correctly. Write unit tests that display the actions for a given state, rewards, results, etc. This will help you identify errors in your implementation and save you a lot of debugging time later."
   ]
  },
  {
   "cell_type": "code",
   "execution_count": 2,
   "metadata": {},
   "outputs": [],
   "source": [
    "# Your code here.\n",
    "class MDPLanding:\n",
    "    def __init__(self, L, default_reward, good_term_state, bad_term_state):\n",
    "        self.default_reward = default_reward\n",
    "        self.all_actions = ['Up', 'Down', 'North', 'South', 'East', 'West']\n",
    "        self.discount = .999\n",
    "        self.states = []\n",
    "        self.terminal_states = {}\n",
    "        self.L = L\n",
    "        \n",
    "        for i in range(L):\n",
    "            for j in range(L):\n",
    "                for k in range(L):\n",
    "                    self.states.append((i,j,k))\n",
    "        \n",
    "        for i in range(L):\n",
    "            for j in range(L):\n",
    "                self.terminal_states[(i,j,0)] = bad_term_state\n",
    "        self.terminal_states[int(L/2), int(L/2), 0] = good_term_state\n",
    "        \n",
    "    def actions(self, state):\n",
    "        actions = []\n",
    "        if state[2] == 0:\n",
    "            actions.append('Down')\n",
    "        else:\n",
    "            if state[0] < self.L:\n",
    "                actions.append('East')\n",
    "            if state[0] > 0:\n",
    "                actions.append('West')\n",
    "            if state[1] < self.L:\n",
    "                actions.append('North')\n",
    "            if state[1] > 0:\n",
    "                actions.append('South')\n",
    "            if state[2] < self.L:\n",
    "                actions.append('Up')\n",
    "            if state[2] > 0:\n",
    "                actions.append('Down') \n",
    "        return actions\n",
    "        \n",
    "    def reward(self, state):\n",
    "        if state in self.terminal_states:\n",
    "            return self.terminal_states[state]\n",
    "        else:\n",
    "            return self.default_reward\n",
    "        \n",
    "    def result(self, state, action):\n",
    "        trans_tup = (-1,-1,-1)\n",
    "        if action == 'Up':\n",
    "            trans_tup = (0,0,1)\n",
    "        elif action == 'Down':\n",
    "            trans_tup = (0,0,-1)\n",
    "        elif action == 'North':\n",
    "            trans_tup = (0,1,0)\n",
    "        elif action == 'South':\n",
    "            trans_tup = (0,-1,0)\n",
    "        elif action == 'East':\n",
    "            trans_tup = (1,0,0)\n",
    "        elif action == 'West':\n",
    "            trans_tup = (-1,0,0)\n",
    "            \n",
    "        new_tup = (state[0]+trans_tup[0], state[1]+trans_tup[1], state[2]+trans_tup[2])\n",
    "        if new_tup in self.states:\n",
    "            return new_tup\n",
    "        else:\n",
    "            return state"
   ]
  },
  {
   "cell_type": "code",
   "execution_count": 3,
   "metadata": {},
   "outputs": [
    {
     "name": "stdout",
     "output_type": "stream",
     "text": [
      "Up (1, 1, 2)\n",
      "Down (1, 1, 0)\n",
      "North (1, 2, 1)\n",
      "South (1, 0, 1)\n",
      "East (2, 1, 1)\n",
      "West (0, 1, 1)\n",
      "\n",
      "['East', 'West', 'North', 'South', 'Up', 'Down']\n",
      "-0.01\n",
      "1\n",
      "-1\n"
     ]
    }
   ],
   "source": [
    "testMDP = MDPLanding(3, -0.01, 1, -1)\n",
    "\n",
    "for x in testMDP.all_actions:  \n",
    "    print(x, testMDP.result((1,1,1), x))\n",
    "print()\n",
    "\n",
    "print(testMDP.actions((1,1,1)))\n",
    "print(testMDP.reward((1,1,1)))\n",
    "print(testMDP.reward((1,1,0)))\n",
    "print(testMDP.reward((0,0,0)))"
   ]
  },
  {
   "cell_type": "markdown",
   "metadata": {
    "collapsed": true
   },
   "source": [
    "#### Part B\n",
    "Write a function to implement **policy iteration** for this drone landing MDP. Create an MDP environment to represent the $L=4$ case (so 125 total states).\n",
    "\n",
    "Use your function to find an optimal policy for your new MDP environment. Check (by printing to screen) that the policy for the following states are what you expect, and **comment on the results**:\n",
    "1. $(2,2,1)$\n",
    "1. $(0,2,1)$\n",
    "1. $(2,0,1)$\n",
    "\n",
    "The policy for each of these states is the action that the agent should take in that state. "
   ]
  },
  {
   "cell_type": "code",
   "execution_count": 4,
   "metadata": {},
   "outputs": [],
   "source": [
    "# Your code here.\n",
    "def policy_iteration(MDP):\n",
    "    gamma = MDP.discount\n",
    "    state_utils = {}\n",
    "    state_pols = {}\n",
    "    actions = MDP.all_actions\n",
    "    \n",
    "    for i in MDP.states:\n",
    "        state_utils[i] = MDP.reward(i)\n",
    "        state_pols[i] = 'Up'\n",
    "    \n",
    "    changed = True\n",
    "    #while a change was made for a policy, continue \n",
    "    while (changed):\n",
    "        changed = False\n",
    "        new_utils = {}\n",
    "        #policy evaluation\n",
    "        for i in state_utils:\n",
    "            #only evaluate non-terminal states\n",
    "            if i[2] != 0:\n",
    "                U = []\n",
    "                #get the current max utility for the current state\n",
    "                for a in actions:\n",
    "                    U.append(gamma * state_utils[MDP.result(i, a)])\n",
    "                new_utils[i] = max(U)\n",
    "                #if state is terminal no evaluation needed\n",
    "            else:\n",
    "                new_utils[i] = state_utils[i]\n",
    "                #set state_utils to new updated utils\n",
    "        state_utils = new_utils\n",
    "\n",
    "        \n",
    "        #policy improvement\n",
    "        for i in state_pols:\n",
    "            #only check for improvements on non-terminal states\n",
    "            if i[2] != 0:\n",
    "                P = {}\n",
    "                #get all utils for the current state\n",
    "                for a in actions:\n",
    "                    P[state_utils[MDP.result(i, a)]] = a\n",
    "                #if the policy associated with the max utility is different from the current policy update the policy\n",
    "                if P[max(P)] != state_pols[i]:\n",
    "                    state_pols[i] = P[max(P)]\n",
    "                    changed = True\n",
    "                #print(i, state_pols[i], P)\n",
    "        \n",
    "#     for i in state_utils:\n",
    "#         print(i, state_utils[i])\n",
    "    \n",
    "    return state_pols"
   ]
  },
  {
   "cell_type": "code",
   "execution_count": 5,
   "metadata": {
    "scrolled": false
   },
   "outputs": [
    {
     "name": "stdout",
     "output_type": "stream",
     "text": [
      "+++++\n",
      "+++++\n",
      "+++++\n",
      "+++++\n",
      "+++++\n",
      "\n",
      ">>V<<\n",
      ">>V<<\n",
      ">>-<<\n",
      ">>^<<\n",
      ">>^<<\n",
      "\n",
      ">>V<<\n",
      ">>V<<\n",
      ">>-<<\n",
      ">>^<<\n",
      ">>^<<\n",
      "\n",
      ">>V<<\n",
      ">>V<<\n",
      ">>-<<\n",
      ">>^<<\n",
      ">>^<<\n",
      "\n",
      ">>V<<\n",
      ">>V<<\n",
      ">>-<<\n",
      ">>^<<\n",
      ">>^<<\n",
      "\n"
     ]
    }
   ],
   "source": [
    "L = 5\n",
    "piMDP = MDPLanding(L, -0.01, 1, -1)\n",
    "policies = policy_iteration(piMDP)\n",
    "#print(policies[(2,2,1)])\n",
    "\n",
    "for z in range(L):\n",
    "    zplane = \"\"\n",
    "    for y in range(L):\n",
    "        for x in range(L):\n",
    "            if policies[(x,y,z)] == 'Up':\n",
    "                zplane += '+'\n",
    "            elif policies[(x,y,z)] == 'Down':\n",
    "                zplane += '-'\n",
    "            elif policies[(x,y,z)] == 'North':\n",
    "                zplane += 'V'\n",
    "            elif policies[(x,y,z)] == 'South':\n",
    "                zplane += '^'\n",
    "            elif policies[(x,y,z)] == 'East':\n",
    "                zplane += '>'\n",
    "            else:\n",
    "                zplane += '<'\n",
    "        zplane += '\\n'\n",
    "    print(zplane)"
   ]
  },
  {
   "cell_type": "code",
   "execution_count": 6,
   "metadata": {},
   "outputs": [
    {
     "name": "stdout",
     "output_type": "stream",
     "text": [
      "Down\n",
      "East\n",
      "North\n"
     ]
    }
   ],
   "source": [
    "print(policies[(2,2,1)])\n",
    "print(policies[(0,2,1)])\n",
    "print(policies[(2,0,1)])"
   ]
  },
  {
   "cell_type": "markdown",
   "metadata": {},
   "source": [
    "the policy generated is to funnel towards the middle then down to the landing platorm. This makes sense and is supported by the results of the three tests."
   ]
  },
  {
   "cell_type": "markdown",
   "metadata": {},
   "source": [
    "#### Part C\n",
    "\n",
    "Code up a **Q-learning** agent/algorithm to learn how to land the drone. You can do this however you like, as long as you use the MDP class structure defined above.  \n",
    "\n",
    "Your code should include some kind of a wrapper to run many trials to train the agent and learn the Q values.  You also do not need to have a separate function for the actual \"agent\"; your code can just be a \"for\" loop within which you are refining your estimate of the Q values.\n",
    "\n",
    "From each training trial, save the cumulative discounted reward (utility) over the course of that episode. That is, add up all of $\\gamma^t R(s_t)$ where the drone is in state $s_t$ during time step $t$, for the entire sequence. We refer to this as \"cumulative reward\" because we usually refer to \"utility\" as the utility *under an optimal policy*.\n",
    "\n",
    "Some guidelines:\n",
    "* The drone should initialize in a random non-terminal state for each new training episode.\n",
    "* The training episodes should be limited to 50 time steps, even if the drone has not yet landed. If the drone lands (in a terminal state), the training episode is over.\n",
    "* You may use whatever learning rate $\\alpha$ you decide is appropriate, and gives good results.\n",
    "* There are many forms of Q-learning. You can use whatever you would like, subject to the reliability targets in Part D below.\n",
    "* Your code should return:\n",
    "  * The learned Q values associated with each state-action pair.\n",
    "  * The cumulative reward for each training trial. \n",
    "  * Anything else that might be useful in the ensuing analysis."
   ]
  },
  {
   "cell_type": "code",
   "execution_count": 7,
   "metadata": {},
   "outputs": [],
   "source": [
    "# Your code here.\n",
    "def Q_Learning(MDP, L, num_of_trials):\n",
    "    a = 0.4\n",
    "    Q = {}\n",
    "    cumu_rewards = []\n",
    "    state_pols = {}\n",
    "    visited = {}\n",
    "    \n",
    "    for state in MDP.states:\n",
    "        Q[state] = {}\n",
    "        if state[2] == 0:\n",
    "            for action in MDP.actions(state):\n",
    "                Q[state][action] = MDP.reward(state)\n",
    "        else:\n",
    "            for action in MDP.actions(state):\n",
    "                Q[state][action] = 0\n",
    "    \n",
    "    for i in MDP.states:\n",
    "        state_pols[i] = 'Up'\n",
    "        visited[i] = 0\n",
    "    \n",
    "    for x in range(num_of_trials):\n",
    "        steps = 0\n",
    "        current_reward = 0\n",
    "        state = (random.randint(0,L-1), random.randint(0,L-1), random.randint(1,L-1))\n",
    "        while steps < 50:\n",
    "            if state in MDP.terminal_states:\n",
    "                #calc cumu reward\n",
    "                current_reward += ((MDP.discount**steps)*MDP.reward(state))\n",
    "                break\n",
    "            else:\n",
    "                #calc e value\n",
    "                e = 1-math.exp(-(visited[state]+1)/20)\n",
    "                #action is exploitative option\n",
    "                if np.random.choice([True, False], p=[e, 1-e]):\n",
    "                    #get optimal action from state_pols\n",
    "                    action = state_pols[state]\n",
    "                #action is exploration option  \n",
    "                else:\n",
    "                    #get random exploration action\n",
    "                    action = np.random.choice(sorted(Q[state], key=Q[state].get, reverse=True)[1:])\n",
    "                #get new state\n",
    "                new_state = MDP.result(state, action)\n",
    "                #increase visitied count\n",
    "                visited[state] += 1\n",
    "                #set Q(s,a) based on action\n",
    "                Q[state][action] = Q[state][action] + a*(MDP.reward(state)+MDP.discount*(max(Q[new_state].values()) - Q[state][action]))\n",
    "                #Q[state][action] = Q[state][action]*(1-a) + a*(MDP.reward(new_state)+MDP.discount*(max(Q[new_state].values())))\n",
    "                #update policy for state\n",
    "                state_pols[state] = sorted(Q[state].items(), key=lambda x: x[1], reverse=True)[0][0]\n",
    "                #calc cumu reward\n",
    "                current_reward += ((MDP.discount**steps)*MDP.reward(state))\n",
    "                #update state/steps\n",
    "                state = new_state\n",
    "                steps += 1\n",
    "        cumu_rewards.append(current_reward)    \n",
    "    \n",
    "    #print(visited)\n",
    "    return Q, cumu_rewards, state_pols"
   ]
  },
  {
   "cell_type": "code",
   "execution_count": 8,
   "metadata": {},
   "outputs": [
    {
     "name": "stdout",
     "output_type": "stream",
     "text": [
      "-0.6662145883372725\n",
      "0.19819950398206815\n",
      "0.7620249495666481\n",
      "0.7749808415984051\n",
      "0.8202884804795367\n",
      "0.8218517302788692\n",
      "0.8505035518728016\n",
      "0.8575663524262495\n",
      "0.8540146803030034\n",
      "0.8488633698415903\n"
     ]
    }
   ],
   "source": [
    "L = 10\n",
    "trials = 5000\n",
    "qlMDP = MDPLanding(L, -0.01, 1, -1)\n",
    "Q, cumu_rewards, pols = Q_Learning(qlMDP, L, trials)\n",
    "\n",
    "#print(cumu_rewards)\n",
    "for x in range(0, trials, 500):\n",
    "    start = x\n",
    "    print(sum(cumu_rewards[start:start+500])/500)\n",
    "    \n",
    "# for z in range(L):\n",
    "#     zplane = \"\"\n",
    "#     for y in range(L):\n",
    "#         for x in range(L):\n",
    "#             if pols[(x,y,z)] == 'Up':\n",
    "#                 zplane += '+'\n",
    "#             elif pols[(x,y,z)] == 'Down':\n",
    "#                 zplane += '-'\n",
    "#             elif pols[(x,y,z)] == 'North':\n",
    "#                 zplane += 'V'\n",
    "#             elif pols[(x,y,z)] == 'South':\n",
    "#                 zplane += '^'\n",
    "#             elif pols[(x,y,z)] == 'East':\n",
    "#                 zplane += '>'\n",
    "#             else:\n",
    "#                 zplane += '<'\n",
    "#         zplane += '\\n'\n",
    "#     print(zplane)"
   ]
  },
  {
   "cell_type": "markdown",
   "metadata": {},
   "source": [
    "#### Part D\n",
    "\n",
    "Initialize the $L=10$ environment (so that the landing pad is at $(5,5,0)$). Run some number of training trials to train the drone.\n",
    "\n",
    "**How do I know if my drone is learned enough?**  If you take the mean cumulative reward across the last 5000 training trials, it should be around 0.80. This means at least about 10,000 (but probably more) training episodes will be necessary. It will take a few seconds on your computer, so start small to test your code.\n",
    "\n",
    "**Then:** Compute block means of cumulative reward from all of your training trials. Use blocks of 500 training trials. This means you need to create some kind of array-like structure such that its first element is the mean of the first 500 trials' cumulative rewards; its second element is the mean of the 501-1000th trials' cumulative rewards; and so on. Make a plot of the block mean rewards as the training progresses. It should increase from about -0.5 initially to somewhere around +0.8.\n",
    "\n",
    "**And:** Print to the screen the mean of the last 5000 trials' cumulative rewards, to verify that it is indeed about 0.80."
   ]
  },
  {
   "cell_type": "code",
   "execution_count": 9,
   "metadata": {},
   "outputs": [],
   "source": [
    "# Your code here.\n",
    "L = 10\n",
    "trials = 10000\n",
    "qlMDP = MDPLanding(L, -0.01, 1, -1)\n",
    "Q, cumu_rewards, pols = Q_Learning(qlMDP, L, trials)\n",
    "\n",
    "blocks = []\n",
    "for x in range(0, trials, 500):\n",
    "    start = x\n",
    "    blocks.append((sum(cumu_rewards[start:start+500])/500))"
   ]
  },
  {
   "cell_type": "code",
   "execution_count": 10,
   "metadata": {},
   "outputs": [
    {
     "name": "stdout",
     "output_type": "stream",
     "text": [
      "Last 5000 0.8648204659984816\n"
     ]
    },
    {
     "data": {
      "text/plain": [
       "[<matplotlib.lines.Line2D at 0x7f23af624fd0>]"
      ]
     },
     "execution_count": 10,
     "metadata": {},
     "output_type": "execute_result"
    },
    {
     "data": {
      "image/png": "[encoded data removed]",
      "text/plain": [
       "<Figure size 432x288 with 1 Axes>"
      ]
     },
     "metadata": {},
     "output_type": "display_data"
    }
   ],
   "source": [
    "print('Last 5000', sum(cumu_rewards[trials-5000:])/5000)\n",
    "\n",
    "plt.plot(list(range(20)), blocks)"
   ]
  },
  {
   "cell_type": "markdown",
   "metadata": {},
   "source": [
    "#### Part E\n",
    "\n",
    "**Question 1:** Why does the cumulative reward start off around -0.5 at the beginning of the training?\n",
    "\n",
    "**Question 2:** Why will it be difficult for us to train the drone to reliably obtain rewards much greater than about 0.8?"
   ]
  },
  {
   "cell_type": "markdown",
   "metadata": {},
   "source": [
    "Question 1:  \n",
    "because a trial is limited to 50 steps and the starting living reward is .01  \n",
    "-.01 * 50 = -.5  \n",
    "  \n",
    "Question 2:  \n",
    "because the maximum reward is 1 and therefore the difference of .2 means that the drone will on average take 20 steps to reach the end. This is a reasonable assumption given an L value of 10 and the possibility for exploration  "
   ]
  },
  {
   "cell_type": "markdown",
   "metadata": {},
   "source": [
    "#### Part F\n",
    "Choose three other reward structures, including the terminal rewards and the living rewards, and rerun your policy iteration and Q-learning algorithms with those reward structures. Write a paragraph or two describing the reward structures that you selected, what impact you expected the changes to have on your results, and what changes actually happened. If there was a difference in what you expected and what actually happened, reflect on why there was a difference. "
   ]
  },
  {
   "cell_type": "code",
   "execution_count": 11,
   "metadata": {},
   "outputs": [
    {
     "name": "stdout",
     "output_type": "stream",
     "text": [
      "Living reward: -0.05  Good terminal reward: 2  Bad terminal reward: -2\n",
      "Down East North\n",
      "[-2.569960890516359, -1.5591418279466078, 0.6102978836221659, 1.2996551849055302, 1.3627695193310716, 1.329846287185046, 0.0, 0.0] \n",
      "\n",
      "Living reward: -0.1  Good terminal reward: 5  Bad terminal reward: -5\n",
      "Down East North\n",
      "[-4.774437647688129, 1.1678504334243185, 3.1928893258088955, 3.5111210866764373, 3.6562700743518284, 3.6876366769706017, 0.0, 0.0] \n",
      "\n",
      "Living reward: -0.2  Good terminal reward: 10  Bad terminal reward: -10\n",
      "Down East North\n",
      "[-11.000711548751074, -6.2210880622406055, 3.9549298522583225, 7.147326806704783, 7.30727426232806, 7.516272915768514, 0.0, 0.0] \n",
      "\n"
     ]
    }
   ],
   "source": [
    "t_rewards = [(2,-2), (5,-5), (10,-10)]\n",
    "l_rewards = [-.05, -.1, -.2]\n",
    "\n",
    "for x in range(3):\n",
    "    print('Living reward:', l_rewards[x], ' Good terminal reward:', t_rewards[x][0], ' Bad terminal reward:', t_rewards[x][1])\n",
    "    piMDP = MDPLanding(5, l_rewards[x], t_rewards[x][0], t_rewards[x][1])\n",
    "    piPols = policy_iteration(piMDP)\n",
    "    print(policies[(2,2,1)], policies[(0,2,1)], policies[(2,0,1)])\n",
    "    \n",
    "    qlMDP = MDPLanding(10, l_rewards[x], t_rewards[x][0], t_rewards[x][1])\n",
    "    Q, cumu_rewards, pols = Q_Learning(qlMDP, 10, 3000)\n",
    "    rewards = []\n",
    "    for x in range(0, 4000, 500):\n",
    "        start = x\n",
    "        rewards.append((sum(cumu_rewards[start:start+500])/500))\n",
    "    print(rewards, '\\n')\n",
    "    "
   ]
  },
  {
   "cell_type": "markdown",
   "metadata": {},
   "source": [
    "For my reward structures I chose living rewards of [-.05, -.1, -.2] and for my terminal rewards I chose [(2,-2), (5,-5), (10,-10)] for the good and bad terminal states respectively. I didn't expect much of a change honestly. Maybe that's because I didn't choose meaningful values for the rewards or maybe it's because I haven't slept in over 24 hours, hard to tell. Based on the results there doesn't seem to be much of a difference. "
   ]
  },
  {
   "cell_type": "code",
   "execution_count": null,
   "metadata": {},
   "outputs": [],
   "source": []
  }
 ],
 "metadata": {
  "kernelspec": {
   "display_name": "Python 3",
   "language": "python",
   "name": "python3"
  },
  "language_info": {
   "codemirror_mode": {
    "name": "ipython",
    "version": 3
   },
   "file_extension": ".py",
   "mimetype": "text/x-python",
   "name": "python",
   "nbconvert_exporter": "python",
   "pygments_lexer": "ipython3",
   "version": "3.6.5"
  }
 },
 "nbformat": 4,
 "nbformat_minor": 2
}
